{
 "cells": [
  {
   "cell_type": "code",
   "execution_count": null,
   "id": "e4e2517c",
   "metadata": {},
   "outputs": [],
   "source": [
    "import numpy as np\n",
    "import matplotlib.pyplot as plt \n",
    "import pandas as pd\n",
    "import seaborn as sns\n",
    "from sklearn.preprocessing import MinMaxScaler\n",
    "from sklearn.cluster import KMeans\n",
    "from sklearn.decomposition import PCA\n",
    "import prince\n",
    "\n",
    "\n",
    "df1=pd.read_csv('tracks_features.csv')\n",
    "df_popu=pd.read_csv('tracks_features_popu_100_pourcents.csv')"
   ]
  },
  {
   "cell_type": "markdown",
   "id": "761fb9c5",
   "metadata": {
    "heading_collapsed": true
   },
   "source": [
    "# 1) Méthode KMeans"
   ]
  },
  {
   "cell_type": "markdown",
   "id": "f0869f21",
   "metadata": {
    "heading_collapsed": true,
    "hidden": true
   },
   "source": [
    "## a) Algorithme KMeans"
   ]
  },
  {
   "cell_type": "code",
   "execution_count": null,
   "id": "304baeb4",
   "metadata": {
    "hidden": true
   },
   "outputs": [],
   "source": [
    "# preprocessing\n",
    "\n",
    "# supression des données inutiles au clustering\n",
    "\n",
    "df1=df1.set_index('id')\n",
    "df_cluster=df1.drop(['name','album','album_id','artists',\n",
    "                     'artist_ids','track_number','disc_number',\n",
    "                     'time_signature','year','release_date'],axis=1)\n",
    "\n",
    "# Application d'un scaler\n",
    "\n",
    "scaler=MinMaxScaler()\n",
    "scaler.fit(df_cluster)\n",
    "df_cluster_scaled=pd.DataFrame(scaler.transform(df_cluster),index=df_cluster.index,columns=df_cluster.columns)\n",
    "df_cluster_scaled.head()\n"
   ]
  },
  {
   "cell_type": "code",
   "execution_count": null,
   "id": "5bf1d7a2",
   "metadata": {
    "hidden": true
   },
   "outputs": [],
   "source": [
    "# application méthode du coude pour trouver le nombre de cluster à paramétrer\n",
    "\n",
    "k_value=[2,3,4,5,6,7,8,9,10,11,12]\n",
    "\n",
    "disto=[]\n",
    "\n",
    "for k in k_value:\n",
    "    clusters=KMeans(n_clusters=k)\n",
    "    clusters.fit(df_cluster_scaled)\n",
    "    disto.append(sum(np.min(cdist(df_cluster_scaled,clusters.cluster_centers_,'euclidean'),axis=1))/np.size(df_cluster_scaled,axis=0))\n"
   ]
  },
  {
   "cell_type": "code",
   "execution_count": null,
   "id": "a1812c58",
   "metadata": {
    "hidden": true
   },
   "outputs": [],
   "source": [
    "plt.figure(figsize=(15,10))\n",
    "plt.plot(k_value,disto)\n",
    "plt.axvline(x=3,color='red',label='3 clusters')\n",
    "plt.axvline(x=5,color='green',label='5 clusters')\n",
    "plt.legend()"
   ]
  },
  {
   "cell_type": "markdown",
   "id": "611afa06",
   "metadata": {
    "hidden": true
   },
   "source": [
    "On retient 5 clusters"
   ]
  },
  {
   "cell_type": "code",
   "execution_count": null,
   "id": "7d6db183",
   "metadata": {
    "hidden": true
   },
   "outputs": [],
   "source": [
    "# on effectue le clustering avec 5 clusters et la méthode du KMeans\n",
    "\n",
    "kmeans=KMeans(n_clusters=5)\n",
    "kmeans.fit(df_cluster_scaled)\n",
    "\n",
    "labels=kmeans.labels_"
   ]
  },
  {
   "cell_type": "code",
   "execution_count": null,
   "id": "7fa1b151",
   "metadata": {
    "hidden": true
   },
   "outputs": [],
   "source": [
    "# On observe la répartition des labels\n",
    "\n",
    "pd.DataFrame(labels).value_counts()"
   ]
  },
  {
   "cell_type": "code",
   "execution_count": null,
   "id": "abfe017b",
   "metadata": {
    "hidden": true
   },
   "outputs": [],
   "source": [
    "sns.countplot(labels).set_title('nombre de morceaux par clusters')"
   ]
  },
  {
   "cell_type": "markdown",
   "id": "732aaf12",
   "metadata": {
    "heading_collapsed": true,
    "hidden": true
   },
   "source": [
    "## b) Application de la PCA sklearn"
   ]
  },
  {
   "cell_type": "code",
   "execution_count": null,
   "id": "53c0bbc3",
   "metadata": {
    "hidden": true
   },
   "outputs": [],
   "source": [
    "# on applique la PCA\n",
    "\n",
    "pca1=PCA(n_components=3)\n",
    "pca1.fit(df_cluster_scaled)\n",
    "df_pca1=pca1.transform(df_cluster_scaled)\n",
    "liste_pca=pca1.explained_variance_ratio_"
   ]
  },
  {
   "cell_type": "code",
   "execution_count": null,
   "id": "71f605db",
   "metadata": {
    "hidden": true
   },
   "outputs": [],
   "source": [
    "# affichage du cercle de corrélation (affiche sur les axes PCA 1 et PCA 2)\n",
    "\n",
    "(fig, ax) = plt.subplots(figsize=(12, 12))\n",
    "for i in range(0, pca1.components_.shape[1]):\n",
    "    ax.arrow(0,\n",
    "             0,  # Start the arrow at the origin\n",
    "             pca1.components_[0, i]*0.95,  #0 for PC1\n",
    "             pca1.components_[1, i]*0.95,  #1 for PC2\n",
    "             head_width=0.05,\n",
    "             head_length=0.05,\n",
    "             color='b',\n",
    "             alpha=0.5)\n",
    "\n",
    "    plt.text(pca1.components_[0, i] ,\n",
    "             pca1.components_[1, i] ,\n",
    "             df_cluster_scaled.columns.values[i]\n",
    "             ,fontsize='large')\n",
    "\n",
    "\n",
    "an = np.linspace(0, 2 * np.pi, 100)\n",
    "plt.plot(np.cos(an), np.sin(an))  # Add a unit circle for scale\n",
    "plt.axis('equal')\n",
    "plt.plot([-1, 1], [0, 0], color='silver', linestyle='-', linewidth=1)\n",
    "plt.plot([0, 0], [-1, 1], color='silver', linestyle='-', linewidth=1)\n",
    "ax.set_title('Cercle de corrélation du module sklearn (classique) PCA 1 & 2',fontsize='xx-large')\n",
    "plt.xlabel('PCA 1 - '+str(np.round(liste_pca[0]*100,2))+' %')\n",
    "plt.ylabel('PCA 2 - '+str(np.round(liste_pca[1]*100,2))+' %')\n",
    "\n",
    "plt.plot([0.25,-0.25,-0.25,0.25,0.25],[0.05,0.05,-0.05,-0.05,0.05],'r',alpha=0.9)\n",
    "\n",
    "plt.annotate('',xy=(0.25,0),xytext=(1.4,0),arrowprops={'facecolor':'red'})\n",
    "plt.axes([1,0.3,0.5,0.5])\n",
    "plt.axis([-0.25,0.25,-0.05,0.05])\n",
    "for i in range(0, pca1.components_.shape[1]):\n",
    "    print(pca1.components_[0,i],pca1.components_[1,i],df_cluster_scaled.columns.values[i],abs(pca1.components_[0,i])<0.25)\n",
    "    \n",
    "    plt.arrow(0,\n",
    "             0,  # Start the arrow at the origin\n",
    "             pca1.components_[0, i]*0.95,  #0 for PC1\n",
    "             pca1.components_[1, i]*0.95,  #1 for PC2\n",
    "             head_width=0.005,\n",
    "             head_length=0.03,\n",
    "             color='b',\n",
    "             alpha=0.5)\n",
    "    if abs(pca1.components_[0,i])<0.25:\n",
    "        if abs(pca1.components_[1,i])<0.05:\n",
    "             plt.text(pca1.components_[0, i] ,\n",
    "                     pca1.components_[1, i] ,\n",
    "                     df_cluster_scaled.columns.values[i],\n",
    "                     fontsize='large')\n",
    "\n",
    "\n",
    "plt.title(\"Zoom\",fontsize='xx-large')\n",
    "\n",
    "plt.xticks([])\n",
    "plt.yticks([])\n",
    "plt.show()"
   ]
  },
  {
   "cell_type": "code",
   "execution_count": null,
   "id": "67f06140",
   "metadata": {
    "hidden": true
   },
   "outputs": [],
   "source": [
    "# affichage du cercle de corrélation (affiche sur les axes PCA 1 et PCA 3)\n",
    "\n",
    "(fig, ax) = plt.subplots(figsize=(12, 12))\n",
    "for i in range(0, pca1.components_.shape[1]):\n",
    "    ax.arrow(0,\n",
    "             0,  # Start the arrow at the origin\n",
    "             pca1.components_[0, i]*0.95,  #0 for PC1\n",
    "             pca1.components_[2, i]*0.95,  #1 for PC3\n",
    "             head_width=0.03,\n",
    "             head_length=0.03,\n",
    "             color='b',\n",
    "             alpha=0.5)\n",
    "\n",
    "    plt.text(pca1.components_[0, i],\n",
    "             pca1.components_[2, i],\n",
    "             df_cluster_scaled.columns.values[i])\n",
    "\n",
    "\n",
    "an = np.linspace(0, 2 * np.pi, 100)\n",
    "plt.plot(np.cos(an), np.sin(an))  # Add a unit circle for scale\n",
    "plt.axis('equal')\n",
    "plt.plot([-1, 1], [0, 0], color='silver', linestyle='-', linewidth=1)\n",
    "plt.plot([0, 0], [-1, 1], color='silver', linestyle='-', linewidth=1)\n",
    "ax.set_title('Cercle de corrélation du module sklearn (classique) PCA 1 & 3')\n",
    "plt.xlabel('PCA 1 - '+str(np.round(100*liste_pca[0],2))+' %')\n",
    "plt.ylabel('PCA 3 - '+str(np.round(100*liste_pca[2],2))+' %')\n",
    "\n",
    "plt.show()"
   ]
  },
  {
   "cell_type": "code",
   "execution_count": null,
   "id": "31dda5d6",
   "metadata": {
    "hidden": true
   },
   "outputs": [],
   "source": [
    "# affichage PCA en 3 dimensions\n",
    "\n",
    "fig=plt.figure(figsize=(10,10))\n",
    "ax=fig.gca(projection='3d')\n",
    "ax.scatter(df_pca1[:,0],df_pca1[:,1],df_pca1[:,2],c=labels,cmap=plt.cm.Spectral,s=0.1)\n",
    "ax.set_xlabel('PCA 1 - '+str(np.round(liste_pca[0]*100,2))+' %')\n",
    "ax.set_ylabel('PCA 2 - '+str(np.round(liste_pca[1]*100,2))+' %')\n",
    "ax.set_zlabel('PCA 3 - '+str(np.round(liste_pca[2]*100,2))+' %')\n",
    "plt.title(\"PCA 3 dimensions module classique\")\n",
    "plt.show()"
   ]
  },
  {
   "cell_type": "code",
   "execution_count": null,
   "id": "faf485fe",
   "metadata": {
    "hidden": true
   },
   "outputs": [],
   "source": [
    "# affichage PCA en 2 dimensions (PCA 1 et PCA 2)\n",
    "\n",
    "fig=plt.figure(figsize=(10,10))\n",
    "plt.scatter(df_pca1[:,0],df_pca1[:,1],c=labels,cmap=plt.cm.Spectral,s=0.1)\n",
    "plt.xlabel('PCA 1 - '+str(np.round(liste_pca[0]*100,2))+' %')\n",
    "plt.ylabel('PCA 2 - '+str(np.round(liste_pca[1]*100,2))+' %')\n",
    "plt.title(\"PCA 2 dimensions module classique\")\n",
    "plt.show()"
   ]
  },
  {
   "cell_type": "code",
   "execution_count": null,
   "id": "a2a52120",
   "metadata": {
    "hidden": true
   },
   "outputs": [],
   "source": [
    "# affichage PCA en 2 dimensions (PCA 2 et PCA 3)\n",
    "\n",
    "fig=plt.figure(figsize=(10,10))\n",
    "plt.scatter(df_pca1[:,1],df_pca1[:,2],c=labels,cmap=plt.cm.Spectral,s=0.1)\n",
    "plt.xlabel('PCA 2 - '+str(np.round(liste_pca[1]*100,2))+' %')\n",
    "plt.ylabel('PCA 3 - '+str(np.round(liste_pca[2]*100,2))+' %')\n",
    "plt.title(\"PCA 2 dimensions module classique\")\n",
    "plt.show()"
   ]
  },
  {
   "cell_type": "markdown",
   "id": "208d8a5d",
   "metadata": {
    "heading_collapsed": true,
    "hidden": true
   },
   "source": [
    "## c) PCA module prince"
   ]
  },
  {
   "cell_type": "code",
   "execution_count": null,
   "id": "fd8cc800",
   "metadata": {
    "hidden": true
   },
   "outputs": [],
   "source": [
    "# application PCA module prince\n",
    "\n",
    "pca2=prince.PCA(n_components=3)\n",
    "pca2=pca2.fit(df_cluster_scaled)\n",
    "df_pca2=pca2.transform(df_cluster_scaled)\n",
    "corr = pca2.column_correlations(df_cluster_scaled)"
   ]
  },
  {
   "cell_type": "code",
   "execution_count": null,
   "id": "5076fe81",
   "metadata": {
    "hidden": true
   },
   "outputs": [],
   "source": [
    "#liste des ratios explicatif de la pca\n",
    "\n",
    "liste_pca2=pca2.explained_inertia_"
   ]
  },
  {
   "cell_type": "code",
   "execution_count": null,
   "id": "3575e8d6",
   "metadata": {
    "hidden": true
   },
   "outputs": [],
   "source": [
    "# affichage cercle de corrélation (PCA 1 et PCA 2)\n",
    "\n",
    "fig, axes = plt.subplots(figsize=(10, 10))\n",
    "axes.set_xlim(-1, 1)\n",
    "axes.set_ylim(-1, 1)\n",
    "# Affichage des variables\n",
    "for j in df_cluster_scaled.columns:\n",
    "    plt.annotate(j, (corr.loc[j, 0], corr.loc[j, 1]), color='#091158')\n",
    "    plt.arrow(0, 0, corr.loc[j, 0]*0.95, corr.loc[j, 1]*0.95, alpha=0.5, head_width=0.03, color='b')\n",
    "# Ajout des axes\n",
    "plt.plot([-1, 1], [0, 0], color='silver', linestyle='-', linewidth=1)\n",
    "plt.plot([0, 0], [-1, 1], color='silver', linestyle='-', linewidth=1)\n",
    "# Cercle et légendes\n",
    "cercle = plt.Circle((0, 0), 1, color='#16E4CA', fill=False)\n",
    "axes.add_artist(cercle)\n",
    "plt.xlabel('PCA 1 - '+str(np.round(liste_pca2[0]*100,2))+' %')\n",
    "plt.ylabel('PCA 2 - '+str(np.round(liste_pca2[1]*100,2))+' %')\n",
    "plt.title('Cercle de correlation module prince PCA 1 & 2');"
   ]
  },
  {
   "cell_type": "code",
   "execution_count": null,
   "id": "02b1481e",
   "metadata": {
    "hidden": true
   },
   "outputs": [],
   "source": [
    "# affichage cercle de corrélation (PCA 1 et 3)\n",
    "\n",
    "fig, axes = plt.subplots(figsize=(10, 10))\n",
    "axes.set_xlim(-1, 1)\n",
    "axes.set_ylim(-1, 1)\n",
    "for j in df_cluster_scaled.columns:\n",
    "    plt.annotate(j, (corr.loc[j, 0], corr.loc[j, 2]), color='#091158')\n",
    "    plt.arrow(0, 0, corr.loc[j, 0]*0.95, corr.loc[j, 2]*0.95, alpha=0.5, head_width=0.03, color='b')\n",
    "# Ajout des axes\n",
    "plt.plot([-1, 1], [0, 0], color='silver', linestyle='-', linewidth=1)\n",
    "plt.plot([0, 0], [-1, 1], color='silver', linestyle='-', linewidth=1)\n",
    "# Cercle et légendes\n",
    "cercle = plt.Circle((0, 0), 1, color='#16E4CA', fill=False)\n",
    "axes.add_artist(cercle)\n",
    "plt.xlabel('PCA 1 - '+str(np.round(liste_pca2[0]*100,2))+' %')\n",
    "plt.ylabel('PCA 3 - '+str(np.round(liste_pca2[2]*100,2))+' %')\n",
    "plt.title('Cercle de correlation module prince PCA 1 & 3');"
   ]
  },
  {
   "cell_type": "code",
   "execution_count": null,
   "id": "491aa417",
   "metadata": {
    "hidden": true
   },
   "outputs": [],
   "source": [
    "# On affiche la PCA en 3 dimensions\n",
    "\n",
    "fig=plt.figure(figsize=(10,10))\n",
    "ax=fig.gca(projection='3d')\n",
    "ax.scatter(df_pca2[0],df_pca2[1],df_pca2[2],c=labels,cmap=plt.cm.Spectral,s=0.1)\n",
    "ax.set_xlabel('PCA 1 - '+str(np.round(liste_pca2[0]*100,2))+' %')\n",
    "ax.set_ylabel('PCA 2 - '+str(np.round(liste_pca2[1]*100,2))+' %')\n",
    "ax.set_zlabel('PCA 3 - '+str(np.round(liste_pca2[2]*100,2))+' %')\n",
    "plt.title(\"PCA 3 dimensions module Prince\")\n",
    "plt.show()"
   ]
  },
  {
   "cell_type": "code",
   "execution_count": null,
   "id": "322118af",
   "metadata": {
    "hidden": true
   },
   "outputs": [],
   "source": [
    "# On affiche la PCA en 2 dimensions (PCA 1 et PCA 2)\n",
    "\n",
    "plt.figure(figsize=(10,10))\n",
    "plt.scatter(df_pca2[0],df_pca2[1],c=labels,cmap=plt.cm.Spectral,s=0.1)\n",
    "plt.xlabel('PCA 1 - '+str(np.round(liste_pca2[0]*100,2))+' %')\n",
    "plt.ylabel('PCA 2 - '+str(np.round(liste_pca2[1]*100,2))+' %')\n",
    "plt.title('PCA 2 dimensions du module Prince')\n",
    "plt.show()"
   ]
  },
  {
   "cell_type": "code",
   "execution_count": null,
   "id": "80b7ab14",
   "metadata": {
    "hidden": true
   },
   "outputs": [],
   "source": [
    "# On affiche la PCA en 2 dimensions (PCA 2 et PCA 3)\n",
    "\n",
    "plt.figure(figsize=(10,10))\n",
    "plt.scatter(df_pca2[1],df_pca2[2],c=labels,cmap=plt.cm.Spectral,s=0.1)\n",
    "plt.xlabel('PCA 2 - '+str(np.round(liste_pca2[1]*100,2))+' %')\n",
    "plt.ylabel('PCA 3 - '+str(np.round(liste_pca2[2]*100,2))+' %')\n",
    "plt.title('PCA 2 dimensions du module Prince')\n",
    "plt.show()"
   ]
  },
  {
   "cell_type": "markdown",
   "id": "661d4d5e",
   "metadata": {
    "hidden": true
   },
   "source": [
    "Les résulats de cette PCA ne sont pas bons, on conservera les résultats de la première PCA"
   ]
  },
  {
   "cell_type": "markdown",
   "id": "39e163cb",
   "metadata": {
    "heading_collapsed": true,
    "hidden": true
   },
   "source": [
    "## d) Analyse clustering"
   ]
  },
  {
   "cell_type": "code",
   "execution_count": null,
   "id": "9ef0b264",
   "metadata": {
    "hidden": true
   },
   "outputs": [],
   "source": [
    "# on joint les labels aux nom de morceaux d'artistes et d'album\n",
    "\n",
    "label_pres=df1[['name','album','artists']].merge(right=pd.DataFrame(labels,index=df_cluster_scaled.index).rename(columns={0:'labels'}),on='id')\n",
    "label_pres.head(30)"
   ]
  },
  {
   "cell_type": "code",
   "execution_count": null,
   "id": "32ea54a7",
   "metadata": {
    "hidden": true
   },
   "outputs": [],
   "source": [
    "# création d'une table du nombre de clusters par artistes\n",
    "\n",
    "df_artists=label_pres.groupby('artists').agg({'labels':['nunique']})"
   ]
  },
  {
   "cell_type": "code",
   "execution_count": null,
   "id": "36ce9a4c",
   "metadata": {
    "hidden": true
   },
   "outputs": [],
   "source": [
    "# on affiche le nombre d'artiste par le nombre de clusters distincts\n",
    "\n",
    "sns.countplot(df_artists[('labels','nunique')]).set(xlabel=\"Nombre de cluster distincts\",ylabel=\"Nombre d'artistes\")"
   ]
  },
  {
   "cell_type": "code",
   "execution_count": null,
   "id": "3889957c",
   "metadata": {
    "hidden": true
   },
   "outputs": [],
   "source": [
    "# pourcentage du nombre d'artiste par nombre de clusters distincts\n",
    "\n",
    "tot=df_artists['labels'].count()[0]\n",
    "per=100*df_artists['labels'].value_counts()/tot\n",
    "per"
   ]
  }
 ],
 "metadata": {
  "kernelspec": {
   "display_name": "Python 3",
   "language": "python",
   "name": "python3"
  },
  "language_info": {
   "codemirror_mode": {
    "name": "ipython",
    "version": 3
   },
   "file_extension": ".py",
   "mimetype": "text/x-python",
   "name": "python",
   "nbconvert_exporter": "python",
   "pygments_lexer": "ipython3",
   "version": "3.8.8"
  }
 },
 "nbformat": 4,
 "nbformat_minor": 5
}
