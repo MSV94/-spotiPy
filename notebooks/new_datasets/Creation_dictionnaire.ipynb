{
 "cells": [
  {
   "cell_type": "markdown",
   "id": "5f2c712b",
   "metadata": {},
   "source": [
    "# Importation Bibliothèque"
   ]
  },
  {
   "cell_type": "code",
   "execution_count": 1,
   "id": "294b5b2b",
   "metadata": {},
   "outputs": [],
   "source": [
    "import pandas as pd\n",
    "import numpy as np\n",
    "import json\n",
    "\n",
    "from time import time\n",
    "from collections import Counter"
   ]
  },
  {
   "cell_type": "markdown",
   "id": "cfbe8c92",
   "metadata": {},
   "source": [
    "# Creation des dictionnaires pour la recommendation"
   ]
  },
  {
   "cell_type": "markdown",
   "id": "9c786b26",
   "metadata": {},
   "source": [
    "## Dictionnaire pour les genres musicaux"
   ]
  },
  {
   "cell_type": "code",
   "execution_count": 2,
   "id": "2369af0f",
   "metadata": {},
   "outputs": [
    {
     "data": {
      "text/html": [
       "<div>\n",
       "<style scoped>\n",
       "    .dataframe tbody tr th:only-of-type {\n",
       "        vertical-align: middle;\n",
       "    }\n",
       "\n",
       "    .dataframe tbody tr th {\n",
       "        vertical-align: top;\n",
       "    }\n",
       "\n",
       "    .dataframe thead th {\n",
       "        text-align: right;\n",
       "    }\n",
       "</style>\n",
       "<table border=\"1\" class=\"dataframe\">\n",
       "  <thead>\n",
       "    <tr style=\"text-align: right;\">\n",
       "      <th></th>\n",
       "      <th>id</th>\n",
       "      <th>genre</th>\n",
       "      <th>popularity</th>\n",
       "    </tr>\n",
       "  </thead>\n",
       "  <tbody>\n",
       "    <tr>\n",
       "      <th>0</th>\n",
       "      <td>7lmeHLHBe4nmXzuXc0HDjk</td>\n",
       "      <td>alternative metal, alternative rock, conscious...</td>\n",
       "      <td>65</td>\n",
       "    </tr>\n",
       "    <tr>\n",
       "      <th>1</th>\n",
       "      <td>1wsRitfRRtWyEapl0q22o8</td>\n",
       "      <td>alternative metal, alternative rock, conscious...</td>\n",
       "      <td>69</td>\n",
       "    </tr>\n",
       "    <tr>\n",
       "      <th>2</th>\n",
       "      <td>1hR0fIFK2qRG3f3RF70pb7</td>\n",
       "      <td>alternative metal, alternative rock, conscious...</td>\n",
       "      <td>55</td>\n",
       "    </tr>\n",
       "    <tr>\n",
       "      <th>3</th>\n",
       "      <td>2lbASgTSoDO7MTuLAXlTW0</td>\n",
       "      <td>alternative metal, alternative rock, conscious...</td>\n",
       "      <td>50</td>\n",
       "    </tr>\n",
       "    <tr>\n",
       "      <th>4</th>\n",
       "      <td>1MQTmpYOZ6fcMQc56Hdo7T</td>\n",
       "      <td>alternative metal, alternative rock, conscious...</td>\n",
       "      <td>66</td>\n",
       "    </tr>\n",
       "  </tbody>\n",
       "</table>\n",
       "</div>"
      ],
      "text/plain": [
       "                       id                                              genre  \\\n",
       "0  7lmeHLHBe4nmXzuXc0HDjk  alternative metal, alternative rock, conscious...   \n",
       "1  1wsRitfRRtWyEapl0q22o8  alternative metal, alternative rock, conscious...   \n",
       "2  1hR0fIFK2qRG3f3RF70pb7  alternative metal, alternative rock, conscious...   \n",
       "3  2lbASgTSoDO7MTuLAXlTW0  alternative metal, alternative rock, conscious...   \n",
       "4  1MQTmpYOZ6fcMQc56Hdo7T  alternative metal, alternative rock, conscious...   \n",
       "\n",
       "   popularity  \n",
       "0          65  \n",
       "1          69  \n",
       "2          55  \n",
       "3          50  \n",
       "4          66  "
      ]
     },
     "execution_count": 2,
     "metadata": {},
     "output_type": "execute_result"
    }
   ],
   "source": [
    "# Chargement du fichier csv musique_spotify et suppression des lignes n'ayant pas de genres musicaux\n",
    "df=pd.read_csv('Data/musique_spotify.csv',index_col=0)\n",
    "df=df[['id','genre','popularity']].dropna()\n",
    "df.head()"
   ]
  },
  {
   "cell_type": "code",
   "execution_count": 3,
   "id": "a1cd0272",
   "metadata": {},
   "outputs": [],
   "source": [
    "# Création d'un liste contenant toute les lignes de la colonne \"genre\" de df\n",
    "genre_mu=''\n",
    "for genre in df['genre']:\n",
    "    genre_mu+=' '+genre\n",
    "    \n",
    "liste_genre=genre_mu[1:-1].split(', ')\n",
    "\n"
   ]
  },
  {
   "cell_type": "code",
   "execution_count": 4,
   "id": "cd0cd509",
   "metadata": {},
   "outputs": [
    {
     "name": "stdout",
     "output_type": "stream",
     "text": [
      "Il y a 4696 genres musicales différents\n"
     ]
    },
    {
     "data": {
      "text/html": [
       "<div>\n",
       "<style scoped>\n",
       "    .dataframe tbody tr th:only-of-type {\n",
       "        vertical-align: middle;\n",
       "    }\n",
       "\n",
       "    .dataframe tbody tr th {\n",
       "        vertical-align: top;\n",
       "    }\n",
       "\n",
       "    .dataframe thead th {\n",
       "        text-align: right;\n",
       "    }\n",
       "</style>\n",
       "<table border=\"1\" class=\"dataframe\">\n",
       "  <thead>\n",
       "    <tr style=\"text-align: right;\">\n",
       "      <th></th>\n",
       "      <th>genre</th>\n",
       "      <th>Nombre</th>\n",
       "    </tr>\n",
       "  </thead>\n",
       "  <tbody>\n",
       "    <tr>\n",
       "      <th>104</th>\n",
       "      <td>classical</td>\n",
       "      <td>88721</td>\n",
       "    </tr>\n",
       "    <tr>\n",
       "      <th>8</th>\n",
       "      <td>rock</td>\n",
       "      <td>28635</td>\n",
       "    </tr>\n",
       "    <tr>\n",
       "      <th>121</th>\n",
       "      <td>baroque</td>\n",
       "      <td>27626</td>\n",
       "    </tr>\n",
       "    <tr>\n",
       "      <th>122</th>\n",
       "      <td>early music</td>\n",
       "      <td>27569</td>\n",
       "    </tr>\n",
       "    <tr>\n",
       "      <th>125</th>\n",
       "      <td>early modern classical</td>\n",
       "      <td>24951</td>\n",
       "    </tr>\n",
       "    <tr>\n",
       "      <th>11</th>\n",
       "      <td>mellow gold</td>\n",
       "      <td>23479</td>\n",
       "    </tr>\n",
       "    <tr>\n",
       "      <th>12</th>\n",
       "      <td>soft rock</td>\n",
       "      <td>22480</td>\n",
       "    </tr>\n",
       "    <tr>\n",
       "      <th>10</th>\n",
       "      <td>classic rock</td>\n",
       "      <td>21779</td>\n",
       "    </tr>\n",
       "    <tr>\n",
       "      <th>264</th>\n",
       "      <td>classical era</td>\n",
       "      <td>19144</td>\n",
       "    </tr>\n",
       "    <tr>\n",
       "      <th>21</th>\n",
       "      <td>country rock</td>\n",
       "      <td>19079</td>\n",
       "    </tr>\n",
       "  </tbody>\n",
       "</table>\n",
       "</div>"
      ],
      "text/plain": [
       "                      genre  Nombre\n",
       "104               classical   88721\n",
       "8                      rock   28635\n",
       "121                 baroque   27626\n",
       "122             early music   27569\n",
       "125  early modern classical   24951\n",
       "11              mellow gold   23479\n",
       "12                soft rock   22480\n",
       "10             classic rock   21779\n",
       "264           classical era   19144\n",
       "21             country rock   19079"
      ]
     },
     "execution_count": 4,
     "metadata": {},
     "output_type": "execute_result"
    }
   ],
   "source": [
    "# A partir de la liste fabriqué précedemment, \n",
    "# nous avons crée avec à l'aide de la fonction Counter de la bibliothèque collections \n",
    "# un DataFrame avec les genres musicaux et leur nombre de répétition dans le DataFrame df\n",
    "\n",
    "Nbr_genre=pd.DataFrame({'genre':list(Counter(liste_genre).keys()),\n",
    "                        'Nombre':list(Counter(liste_genre).values())\n",
    "                       })\n",
    "Nbr_genre=Nbr_genre.sort_values(by='Nombre',ascending=False)\n",
    "print(\"Il y a\",Nbr_genre.shape[0],'genres musicales différents')\n",
    "Nbr_genre.head(10)\n"
   ]
  },
  {
   "cell_type": "code",
   "execution_count": 5,
   "id": "b8cc218d",
   "metadata": {},
   "outputs": [
    {
     "name": "stdout",
     "output_type": "stream",
     "text": [
      "Il y a 4518 genres musicales différents avec au moins deux ittérations\n"
     ]
    }
   ],
   "source": [
    "# Nous supprimons les genres n'apparaisant qu'une fois qui serons inutile pour la recommendation\n",
    "Nbr_genre=Nbr_genre[Nbr_genre['Nombre']>1]\n",
    "print(\"Il y a\",Nbr_genre.shape[0],'genres musicales différents avec au moins deux ittérations')"
   ]
  },
  {
   "cell_type": "code",
   "execution_count": 6,
   "id": "ab24ba08",
   "metadata": {},
   "outputs": [],
   "source": [
    "## Création d'une liste contenant les différents genre musicaux\n",
    "liste_genre=list(Nbr_genre['genre'])"
   ]
  },
  {
   "cell_type": "code",
   "execution_count": 7,
   "id": "aab82adc",
   "metadata": {},
   "outputs": [],
   "source": [
    "# Création d'une dictionnaire donnant pour un genre musical les musiques associé dans df\n",
    "genre2music={}\n",
    "for str_genre,music_g in zip (df['genre'],df['id']):\n",
    "    genres=str_genre[:-1].split(', ')\n",
    "    for i in genres:\n",
    "        if i not in genre2music:\n",
    "            if i in liste_genre:\n",
    "                genre2music[i]=[music_g]\n",
    "        else:\n",
    "            genre2music[i].append(music_g)"
   ]
  },
  {
   "cell_type": "code",
   "execution_count": 8,
   "id": "e76fafd5",
   "metadata": {},
   "outputs": [],
   "source": [
    "# Création d'une dictionnaire donnant pour une musique les genres musicaaux associé dans df\n",
    "music2genre={}\n",
    "for str_genre,music_g in zip (df['genre'],df['id']):\n",
    "    genres=str_genre[:-1].split(', ')\n",
    "    music2genre[music_g]=[]\n",
    "    for genre in genres:\n",
    "        if genre in liste_genre:\n",
    "            music2genre[music_g].append(genre)\n",
    "    if music2genre[music_g]==[]:\n",
    "        music2genre.pop(music_g)"
   ]
  },
  {
   "cell_type": "code",
   "execution_count": 9,
   "id": "7163c0d3",
   "metadata": {},
   "outputs": [],
   "source": [
    "# Création d'une dictionnaire donnant pour une musique les genres musicaaux associé dans df\n",
    "music2popularity={}\n",
    "for music,popularity in zip(df['id'],df['popularity']):\n",
    "    music2popularity[music]=popularity"
   ]
  },
  {
   "cell_type": "code",
   "execution_count": 10,
   "id": "fd00c6ba",
   "metadata": {},
   "outputs": [],
   "source": [
    "# Liste des musiques présente dans nos dictionnaire\n",
    "liste_music=list(music2popularity.keys())"
   ]
  },
  {
   "cell_type": "code",
   "execution_count": 11,
   "id": "0f19d109",
   "metadata": {},
   "outputs": [],
   "source": [
    "# Création d'une dictionnaire contenant toute les donnée à sauvegarder pour la recommendation\n",
    "Recommendation_genre={'genre2music':genre2music,\n",
    "                      'music2genre':music2genre,\n",
    "                      'music2popularity':music2popularity,\n",
    "                      'liste_music':liste_music    \n",
    "}"
   ]
  },
  {
   "cell_type": "code",
   "execution_count": 12,
   "id": "6df15156",
   "metadata": {},
   "outputs": [],
   "source": [
    "##Enregistrement des données\n",
    "tf = open(\"Data/Recommendation_genre.json\", \"w\")\n",
    "json.dump(Recommendation_genre,tf)\n",
    "tf.close()"
   ]
  },
  {
   "cell_type": "markdown",
   "id": "43d0268a",
   "metadata": {},
   "source": [
    "## Dictionnaire pour les playlists sur les musiques"
   ]
  },
  {
   "cell_type": "code",
   "execution_count": 13,
   "id": "3fe3f3cd",
   "metadata": {},
   "outputs": [
    {
     "data": {
      "text/html": [
       "<div>\n",
       "<style scoped>\n",
       "    .dataframe tbody tr th:only-of-type {\n",
       "        vertical-align: middle;\n",
       "    }\n",
       "\n",
       "    .dataframe tbody tr th {\n",
       "        vertical-align: top;\n",
       "    }\n",
       "\n",
       "    .dataframe thead th {\n",
       "        text-align: right;\n",
       "    }\n",
       "</style>\n",
       "<table border=\"1\" class=\"dataframe\">\n",
       "  <thead>\n",
       "    <tr style=\"text-align: right;\">\n",
       "      <th></th>\n",
       "      <th>playlist</th>\n",
       "      <th>id</th>\n",
       "    </tr>\n",
       "  </thead>\n",
       "  <tbody>\n",
       "    <tr>\n",
       "      <th>0</th>\n",
       "      <td>0</td>\n",
       "      <td>6I9VzXrHxO9rA9A5euc8Ak</td>\n",
       "    </tr>\n",
       "    <tr>\n",
       "      <th>1</th>\n",
       "      <td>0</td>\n",
       "      <td>1AWQoqb9bSvzTjaLralEkT</td>\n",
       "    </tr>\n",
       "    <tr>\n",
       "      <th>2</th>\n",
       "      <td>0</td>\n",
       "      <td>7H6ev70Weq6DdpZyyTmUXk</td>\n",
       "    </tr>\n",
       "    <tr>\n",
       "      <th>3</th>\n",
       "      <td>0</td>\n",
       "      <td>2PpruBYCo4H7WOBJ7Q2EwM</td>\n",
       "    </tr>\n",
       "    <tr>\n",
       "      <th>4</th>\n",
       "      <td>0</td>\n",
       "      <td>4pmc2AxSEq6g7hPVlJCPyP</td>\n",
       "    </tr>\n",
       "  </tbody>\n",
       "</table>\n",
       "</div>"
      ],
      "text/plain": [
       "   playlist                      id\n",
       "0         0  6I9VzXrHxO9rA9A5euc8Ak\n",
       "1         0  1AWQoqb9bSvzTjaLralEkT\n",
       "2         0  7H6ev70Weq6DdpZyyTmUXk\n",
       "3         0  2PpruBYCo4H7WOBJ7Q2EwM\n",
       "4         0  4pmc2AxSEq6g7hPVlJCPyP"
      ]
     },
     "execution_count": 13,
     "metadata": {},
     "output_type": "execute_result"
    }
   ],
   "source": [
    "df=pd.read_csv('Data/playlist_musique_spotify.csv',index_col=0)\n",
    "df.head()"
   ]
  },
  {
   "cell_type": "code",
   "execution_count": 14,
   "id": "56a7000b",
   "metadata": {},
   "outputs": [],
   "source": [
    "# Supression des musiques présente plusieurs fois dans la même playlist\n",
    "df=df.drop_duplicates()"
   ]
  },
  {
   "cell_type": "code",
   "execution_count": 15,
   "id": "345fa3f1",
   "metadata": {},
   "outputs": [],
   "source": [
    "# Creation des dictionnaires reliant les playlists aux musiques qu'il contiennent\n",
    "# et les musiques au playlist les contenants\n",
    "playlist2music={}\n",
    "music2playlist={}\n",
    "for playlist, track in zip(df['playlist'],df['id']):\n",
    "    if playlist not in playlist2music:\n",
    "        playlist2music[playlist]=[track]\n",
    "    else:\n",
    "        playlist2music[playlist].append(track)\n",
    "        \n",
    "    if track not in music2playlist:\n",
    "        music2playlist[track]=[playlist]\n",
    "    else:\n",
    "        music2playlist[track].append(playlist)"
   ]
  },
  {
   "cell_type": "code",
   "execution_count": 16,
   "id": "b7e48527",
   "metadata": {},
   "outputs": [],
   "source": [
    "# Liste des musiques présente dans nos dictionnaire\n",
    "liste_music=list(df['id'].unique())"
   ]
  },
  {
   "cell_type": "code",
   "execution_count": 17,
   "id": "98d05290",
   "metadata": {},
   "outputs": [],
   "source": [
    "# Création d'une dictionnaire contenant toute les donnée à sauvegarder pour la recommendation\n",
    "Recommendation_playlist_musique={'playlist2music':playlist2music,\n",
    "                                 'music2playlist':music2playlist,\n",
    "                                 'liste_music':liste_music}"
   ]
  },
  {
   "cell_type": "code",
   "execution_count": 18,
   "id": "ea624413",
   "metadata": {},
   "outputs": [],
   "source": [
    "##Enregistrement des données\n",
    "tf = open(\"Data/Recommendation_playlist_musique.json\", \"w\")\n",
    "json.dump(Recommendation_playlist_musique,tf)\n",
    "tf.close()"
   ]
  },
  {
   "cell_type": "markdown",
   "id": "8a71e865",
   "metadata": {},
   "source": [
    "## Dictionnaire pour le dataset playlist"
   ]
  },
  {
   "cell_type": "code",
   "execution_count": 19,
   "id": "f962bba6",
   "metadata": {},
   "outputs": [
    {
     "data": {
      "text/html": [
       "<div>\n",
       "<style scoped>\n",
       "    .dataframe tbody tr th:only-of-type {\n",
       "        vertical-align: middle;\n",
       "    }\n",
       "\n",
       "    .dataframe tbody tr th {\n",
       "        vertical-align: top;\n",
       "    }\n",
       "\n",
       "    .dataframe thead th {\n",
       "        text-align: right;\n",
       "    }\n",
       "</style>\n",
       "<table border=\"1\" class=\"dataframe\">\n",
       "  <thead>\n",
       "    <tr style=\"text-align: right;\">\n",
       "      <th></th>\n",
       "      <th>playlist</th>\n",
       "      <th>track_uri</th>\n",
       "    </tr>\n",
       "  </thead>\n",
       "  <tbody>\n",
       "    <tr>\n",
       "      <th>0</th>\n",
       "      <td>0</td>\n",
       "      <td>0UaMYEvWZi0ZqiDOoHU3YI</td>\n",
       "    </tr>\n",
       "    <tr>\n",
       "      <th>1</th>\n",
       "      <td>0</td>\n",
       "      <td>6I9VzXrHxO9rA9A5euc8Ak</td>\n",
       "    </tr>\n",
       "    <tr>\n",
       "      <th>2</th>\n",
       "      <td>0</td>\n",
       "      <td>0WqIKmW4BTrj3eJFmnCKMv</td>\n",
       "    </tr>\n",
       "    <tr>\n",
       "      <th>3</th>\n",
       "      <td>0</td>\n",
       "      <td>1AWQoqb9bSvzTjaLralEkT</td>\n",
       "    </tr>\n",
       "    <tr>\n",
       "      <th>4</th>\n",
       "      <td>0</td>\n",
       "      <td>1lzr43nnXAijIGYnCT8M8H</td>\n",
       "    </tr>\n",
       "  </tbody>\n",
       "</table>\n",
       "</div>"
      ],
      "text/plain": [
       "   playlist               track_uri\n",
       "0         0  0UaMYEvWZi0ZqiDOoHU3YI\n",
       "1         0  6I9VzXrHxO9rA9A5euc8Ak\n",
       "2         0  0WqIKmW4BTrj3eJFmnCKMv\n",
       "3         0  1AWQoqb9bSvzTjaLralEkT\n",
       "4         0  1lzr43nnXAijIGYnCT8M8H"
      ]
     },
     "execution_count": 19,
     "metadata": {},
     "output_type": "execute_result"
    }
   ],
   "source": [
    "df=pd.read_csv('Data/playlist_spotify_spare.csv',index_col=0)\n",
    "df.head()"
   ]
  },
  {
   "cell_type": "code",
   "execution_count": 20,
   "id": "9b6bcd61",
   "metadata": {},
   "outputs": [],
   "source": [
    "# Supression des musiques présente plusieurs fois dans la même playlist\n",
    "df=df.drop_duplicates()"
   ]
  },
  {
   "cell_type": "code",
   "execution_count": 21,
   "id": "71f84bde",
   "metadata": {},
   "outputs": [],
   "source": [
    "# Creation des dictionnaires reliant les playlists aux musiques qu'il contiennent\n",
    "# et les musiques au playlist les contenants\n",
    "playlist2music={}\n",
    "music2playlist={}\n",
    "for playlist, track in zip(df['playlist'],df['track_uri']):\n",
    "    if playlist not in playlist2music:\n",
    "        playlist2music[playlist]=[track]\n",
    "    else:\n",
    "        playlist2music[playlist].append(track)\n",
    "        \n",
    "    if track not in music2playlist:\n",
    "        music2playlist[track]=[playlist]\n",
    "    else:\n",
    "        music2playlist[track].append(playlist)"
   ]
  },
  {
   "cell_type": "code",
   "execution_count": 22,
   "id": "68d84daf",
   "metadata": {},
   "outputs": [],
   "source": [
    "# Liste des musiques présente dans nos dictionnaire\n",
    "liste_music=list(df['track_uri'].unique())"
   ]
  },
  {
   "cell_type": "code",
   "execution_count": 23,
   "id": "d7e9cf61",
   "metadata": {},
   "outputs": [],
   "source": [
    "# Création d'une dictionnaire contenant toute les donnée à sauvegarder pour la recommendation\n",
    "Recommendation_playlist={'playlist2music':playlist2music,\n",
    "                                 'music2playlist':music2playlist,\n",
    "                                 'liste_music':liste_music}"
   ]
  },
  {
   "cell_type": "code",
   "execution_count": 24,
   "id": "93704532",
   "metadata": {},
   "outputs": [],
   "source": [
    "##Enregistrement des données\n",
    "tf = open(\"Data/Recommendation_playlist.json\", \"w\")\n",
    "json.dump(Recommendation_playlist,tf)\n",
    "tf.close()"
   ]
  }
 ],
 "metadata": {
  "kernelspec": {
   "display_name": "Python 3 (ipykernel)",
   "language": "python",
   "name": "python3"
  },
  "language_info": {
   "codemirror_mode": {
    "name": "ipython",
    "version": 3
   },
   "file_extension": ".py",
   "mimetype": "text/x-python",
   "name": "python",
   "nbconvert_exporter": "python",
   "pygments_lexer": "ipython3",
   "version": "3.9.7"
  }
 },
 "nbformat": 4,
 "nbformat_minor": 5
}
