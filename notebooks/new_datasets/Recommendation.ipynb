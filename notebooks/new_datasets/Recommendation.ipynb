{
 "cells": [
  {
   "cell_type": "markdown",
   "id": "6fa08dad",
   "metadata": {},
   "source": [
    "# Importation Bibliothèque"
   ]
  },
  {
   "cell_type": "code",
   "execution_count": 1,
   "id": "0c2e5b23",
   "metadata": {},
   "outputs": [
    {
     "name": "stdout",
     "output_type": "stream",
     "text": [
      "Requirement already satisfied: spotipy in c:\\users\\maxim\\anaconda3\\envs\\tf_gpu\\lib\\site-packages (2.19.0)\n",
      "Requirement already satisfied: six>=1.15.0 in c:\\users\\maxim\\anaconda3\\envs\\tf_gpu\\lib\\site-packages (from spotipy) (1.16.0)\n",
      "Requirement already satisfied: urllib3>=1.26.0 in c:\\users\\maxim\\anaconda3\\envs\\tf_gpu\\lib\\site-packages (from spotipy) (1.26.7)\n",
      "Requirement already satisfied: requests>=2.25.0 in c:\\users\\maxim\\anaconda3\\envs\\tf_gpu\\lib\\site-packages (from spotipy) (2.26.0)\n",
      "Requirement already satisfied: charset-normalizer~=2.0.0 in c:\\users\\maxim\\anaconda3\\envs\\tf_gpu\\lib\\site-packages (from requests>=2.25.0->spotipy) (2.0.4)\n",
      "Requirement already satisfied: idna<4,>=2.5 in c:\\users\\maxim\\anaconda3\\envs\\tf_gpu\\lib\\site-packages (from requests>=2.25.0->spotipy) (3.3)\n",
      "Requirement already satisfied: certifi>=2017.4.17 in c:\\users\\maxim\\anaconda3\\envs\\tf_gpu\\lib\\site-packages (from requests>=2.25.0->spotipy) (2021.10.8)\n",
      "Note: you may need to restart the kernel to use updated packages.\n"
     ]
    }
   ],
   "source": [
    "import pandas as pd\n",
    "import numpy as np\n",
    "import json\n",
    "\n",
    "from time import time\n",
    "from collections import Counter\n",
    "\n",
    "%pip install spotipy --upgrade\n",
    "import spotipy\n",
    "from spotipy.oauth2 import SpotifyClientCredentials"
   ]
  },
  {
   "cell_type": "markdown",
   "id": "5f4fd408",
   "metadata": {},
   "source": [
    "# Spotify"
   ]
  },
  {
   "cell_type": "markdown",
   "id": "6527a121",
   "metadata": {},
   "source": [
    "## Compte"
   ]
  },
  {
   "cell_type": "code",
   "execution_count": 2,
   "id": "4689040a",
   "metadata": {},
   "outputs": [],
   "source": [
    "client_id     = \"b608b0a22e5d4e5c882fc846ce59f9b7\"\n",
    "client_secret = \"c99b4de8f5b74517b406544b96719fa5\"\n",
    "\n",
    "\n",
    "client_credentials_manager = SpotifyClientCredentials(client_id, client_secret)\n",
    "sp = spotipy.Spotify(client_credentials_manager=client_credentials_manager)"
   ]
  },
  {
   "cell_type": "markdown",
   "id": "84715911",
   "metadata": {},
   "source": [
    "## Fonction"
   ]
  },
  {
   "cell_type": "code",
   "execution_count": 3,
   "id": "9d4cbd55",
   "metadata": {},
   "outputs": [],
   "source": [
    "def add_titre(col):\n",
    "    return sp.track(col)['name']\n",
    "def add_artist(col):\n",
    "    return sp.track(col)['album']['artists'][0]['name']\n",
    "def add_album(col):\n",
    "    return sp.track(col)['album']['name']\n",
    "\n",
    "def recup_liste_spotify(liste_m):\n",
    "    '''\n",
    "    Recupere les informations sur la musique à partir de son identifiant spotify\n",
    "    Même si il y a un seul identifiant, le rentrer sous forme de liste\n",
    "    '''\n",
    "    df=pd.DataFrame({'track_id':liste_m})\n",
    "    df['titre']=df['track_id'].apply(add_titre)\n",
    "    df['album']=df['track_id'].apply(add_album)\n",
    "    df['artist']=df['track_id'].apply(add_artist)\n",
    "    return df"
   ]
  },
  {
   "cell_type": "markdown",
   "id": "5610844f",
   "metadata": {},
   "source": [
    "# Chargement des dictionnaires"
   ]
  },
  {
   "cell_type": "markdown",
   "id": "c4032de4",
   "metadata": {},
   "source": [
    "Pour les dictionnaires utilisant les playlist pour la recommendation, ne charger qu'un seul des deux dictionnaires, il utilise les mêmes fonctions de recommendation.          "
   ]
  },
  {
   "cell_type": "markdown",
   "id": "2855dc16",
   "metadata": {},
   "source": [
    "## Dictionnaire pour les genres musicaux"
   ]
  },
  {
   "cell_type": "code",
   "execution_count": 4,
   "id": "4e176eea",
   "metadata": {},
   "outputs": [
    {
     "name": "stdout",
     "output_type": "stream",
     "text": [
      "Temps d'éxécution : 3.05 seconde\n"
     ]
    }
   ],
   "source": [
    "# Chargements des dictionnaire pour la recommendation avec les genres musicaux\n",
    "times=time()\n",
    "\n",
    "tf = open(\"Data/Recommendation_genre.json\", \"r\")\n",
    "dictionnaire= json.load(tf)\n",
    "tf.close()\n",
    "\n",
    "genre2music= dictionnaire['genre2music']\n",
    "music2genre=dictionnaire['music2genre']\n",
    "music2popularity=dictionnaire['music2popularity']\n",
    "liste_music_genre=dictionnaire['liste_music']\n",
    "\n",
    "\n",
    "del dictionnaire\n",
    "\n",
    "times=time()-times\n",
    "print(\"Temps d'éxécution :\",round(times,2),\"seconde\")"
   ]
  },
  {
   "cell_type": "markdown",
   "id": "a41d577c",
   "metadata": {},
   "source": [
    "## Dictionnaire pour les playlists sur les musiques"
   ]
  },
  {
   "cell_type": "code",
   "execution_count": 4,
   "id": "0e500c3d",
   "metadata": {},
   "outputs": [
    {
     "name": "stdout",
     "output_type": "stream",
     "text": [
      "Temps d'éxécution : 3.76 seconde\n"
     ]
    }
   ],
   "source": [
    "# Chargements des dictionnaire pour la recommendation avec les playlists sur les musiques\n",
    "times=time()\n",
    "\n",
    "tf = open(\"Data/Recommendation_playlist_musique.json\", \"r\")\n",
    "dictionnaire= json.load(tf)\n",
    "tf.close()\n",
    "\n",
    "playlist2music= dictionnaire['playlist2music']\n",
    "\n",
    "music2playlist= dictionnaire['music2playlist']\n",
    " \n",
    "liste_music= dictionnaire['liste_music']\n",
    "del dictionnaire\n",
    "\n",
    "times=time()-times\n",
    "print(\"Temps d'éxécution :\",round(times,2),\"seconde\")"
   ]
  },
  {
   "cell_type": "markdown",
   "id": "c0f5977c",
   "metadata": {},
   "source": [
    "## Dictionnaire pour le dataset playlist"
   ]
  },
  {
   "cell_type": "code",
   "execution_count": 4,
   "id": "caffc41a",
   "metadata": {},
   "outputs": [
    {
     "name": "stdout",
     "output_type": "stream",
     "text": [
      "Temps d'éxécution : 35.22 seconde\n"
     ]
    }
   ],
   "source": [
    "# Chargements des dictionnaire pour la recommendation avec le dataset playlist\n",
    "times=time()\n",
    "\n",
    "tf = open(\"Data/Recommendation_playlist.json\", \"r\")\n",
    "dictionnaire= json.load(tf)\n",
    "tf.close()\n",
    "\n",
    "playlist2music= dictionnaire['playlist2music']\n",
    "\n",
    "music2playlist= dictionnaire['music2playlist']\n",
    " \n",
    "liste_music= dictionnaire['liste_music']\n",
    "del dictionnaire\n",
    "\n",
    "times=time()-times\n",
    "print(\"Temps d'éxécution :\",round(times,2),\"seconde\")"
   ]
  },
  {
   "cell_type": "markdown",
   "id": "5e776e21",
   "metadata": {},
   "source": [
    "# Fonction recommendation"
   ]
  },
  {
   "cell_type": "code",
   "execution_count": 5,
   "id": "8a9c85a0",
   "metadata": {},
   "outputs": [],
   "source": [
    "def recherche(id_track,liste_m):\n",
    "    '''\n",
    "    Fonction cherchant à rechercher si l'identifiant spotify de la musique est bien présent \n",
    "    dans le jeu de donnée utilisé  \n",
    "    '''\n",
    "    if id_track in liste_m:\n",
    "        return True\n",
    "    else:\n",
    "        return False\n",
    "    "
   ]
  },
  {
   "cell_type": "markdown",
   "id": "cc7f1619",
   "metadata": {},
   "source": [
    "Ne charger que la ou les fonctions de recommendation qui correpondent au dictionnaire chargé"
   ]
  },
  {
   "cell_type": "markdown",
   "id": "80691c03",
   "metadata": {},
   "source": [
    "## Recommendation genre"
   ]
  },
  {
   "cell_type": "code",
   "execution_count": 8,
   "id": "31e383e7",
   "metadata": {},
   "outputs": [],
   "source": [
    "def recommandation_musicale_genre(music,\n",
    "                            liste_music=liste_music_genre,\n",
    "                            genre2music=genre2music,\n",
    "                            music2genre=music2genre,\n",
    "                            music2popularity=music2popularity):\n",
    "    '''\n",
    "    Fonction permettant la recomendation d'une liste de musique en fonction d'une music en entrée\n",
    "    \n",
    "    music : musique à partir de laquel effectuer la recommendation\n",
    "    liste_music : liste de musique dans laquel s'éffectue la recommendation\n",
    "    genre2music : bibliothèque donnant pour chaque genre musicale les musiques correspondante\n",
    "    music2genre : bibliothèque donnant pour chaque musique les genres musicaux correspondant\n",
    "    music2popularity : bibliothèque donnant pour chaque musique la note de popularité correspondant\n",
    "    \n",
    "    '''\n",
    "    \n",
    "    if music not in liste_music:\n",
    "        print(\"Identifiant de la musique incorrect\")\n",
    "        return \n",
    "    \n",
    "    genres=music2genre[music]\n",
    "    music_recommande=[]\n",
    "    for genre in genres:\n",
    "        music_recommande+=genre2music[genre]\n",
    "    popularity=[]\n",
    "    for track in list(Counter(music_recommande).keys()):\n",
    "        popularity.append(music2popularity[track])\n",
    "    music_recommande=pd.DataFrame({'track':list(Counter(music_recommande).keys()),\n",
    "                                   'nombre':list(Counter(music_recommande).values()),\n",
    "                                   'popularity':popularity}).sort_values(by=['nombre','popularity'],ascending=False)\n",
    "    music_recommande=music_recommande[music_recommande['track']!=music]\n",
    "    return list(music_recommande['track'].iloc[:10])"
   ]
  },
  {
   "cell_type": "markdown",
   "id": "b98a9c85",
   "metadata": {},
   "source": [
    "## Recommendation playlist"
   ]
  },
  {
   "cell_type": "code",
   "execution_count": 6,
   "id": "c0b14692",
   "metadata": {},
   "outputs": [],
   "source": [
    "def recommandation_musicale(music,\n",
    "                            liste_music=liste_music,\n",
    "                            playlist2music=playlist2music,\n",
    "                            music2playlist=music2playlist):\n",
    "    '''\n",
    "    Fonction permettant la recomendation d'une liste de musique en fonction d'une music en entrée\n",
    "    \n",
    "    music : musique à partir de laquel effectuer la recommendation\n",
    "    liste_music : liste de musique dans laquel s'éffectue la recommendation\n",
    "    playlist2music : bibliothèque donnant pour chaque playlist les musiques correspondante\n",
    "    music2playlist : bibliothèque donnant pour chaque musique la playlist correspondante\n",
    "\n",
    "    \n",
    "    '''\n",
    "    \n",
    "    if music not in liste_music:\n",
    "        print(\"Identifiant de la musique incorrect\")\n",
    "        return \n",
    "    \n",
    "    playlists=music2playlist[music]\n",
    "    music_recommande=[]\n",
    "    for playlist in playlists:\n",
    "        music_recommande+=playlist2music[str(playlist)]\n",
    "    music_recommande=pd.DataFrame({'track':list(Counter(music_recommande).keys()),\n",
    "                                   'nombre':list(Counter(music_recommande).values())}\n",
    "                                 ).sort_values(by=['nombre'],ascending=False)\n",
    "    music_recommande=music_recommande[music_recommande['track']!=music]\n",
    "    return list(music_recommande['track'].iloc[:10])"
   ]
  },
  {
   "cell_type": "code",
   "execution_count": 7,
   "id": "6544b6b4",
   "metadata": {},
   "outputs": [],
   "source": [
    "def recommandation_playlist(liste_ecoute,\n",
    "                            liste_music=liste_music,\n",
    "                            playlist2music=playlist2music,\n",
    "                            music2playlist=music2playlist):\n",
    "    '''\n",
    "    Fonction permettant la recomendation d'une liste de musique en fonction d'une music en entrée\n",
    "    \n",
    "    liste_ecoute : liste de musique à partir de laquel effectuer la recommendation\n",
    "    liste_music : liste de musique dans laquel s'éffectue la recommendation\n",
    "    playlist2music : bibliothèque donnant pour chaque playlist les musiques correspondante\n",
    "    music2playlist : bibliothèque donnant pour chaque musique la playlist correspondante\n",
    "\n",
    "    \n",
    "    '''\n",
    "    \n",
    "    \n",
    "    for music in liste_ecoute:\n",
    "        if music not in liste_music:\n",
    "            print(\"Identifiant d'une des musique incorrect\")\n",
    "            print(\"Identifiant :\",music)\n",
    "            return \n",
    "    music_recommande=[]\n",
    "    for music in liste_ecoute:\n",
    "        playlists=music2playlist[music]\n",
    "    \n",
    "        for playlist in playlists:\n",
    "            music_recommande+=playlist2music[str(playlist)]\n",
    "    music_recommande=pd.DataFrame({'track':list(Counter(music_recommande).keys()),\n",
    "                                   'nombre':list(Counter(music_recommande).values())}\n",
    "                                 ).sort_values(by=['nombre'],ascending=False)\n",
    "    music_recommande=music_recommande[~music_recommande['track'].isin(liste_ecoute)]\n",
    "    return list(music_recommande['track'].iloc[:10])"
   ]
  },
  {
   "cell_type": "markdown",
   "id": "b06ed310",
   "metadata": {},
   "source": [
    "# Utilisation des fonctions\n"
   ]
  },
  {
   "cell_type": "code",
   "execution_count": 8,
   "id": "2bebda12",
   "metadata": {},
   "outputs": [
    {
     "data": {
      "text/plain": [
       "True"
      ]
     },
     "execution_count": 8,
     "metadata": {},
     "output_type": "execute_result"
    }
   ],
   "source": [
    "recherche('6nTiIhLmQ3FWhvrGafw2zj',liste_music)"
   ]
  },
  {
   "cell_type": "code",
   "execution_count": 9,
   "id": "534cec2f",
   "metadata": {},
   "outputs": [
    {
     "data": {
      "text/html": [
       "<div>\n",
       "<style scoped>\n",
       "    .dataframe tbody tr th:only-of-type {\n",
       "        vertical-align: middle;\n",
       "    }\n",
       "\n",
       "    .dataframe tbody tr th {\n",
       "        vertical-align: top;\n",
       "    }\n",
       "\n",
       "    .dataframe thead th {\n",
       "        text-align: right;\n",
       "    }\n",
       "</style>\n",
       "<table border=\"1\" class=\"dataframe\">\n",
       "  <thead>\n",
       "    <tr style=\"text-align: right;\">\n",
       "      <th></th>\n",
       "      <th>track_id</th>\n",
       "      <th>titre</th>\n",
       "      <th>album</th>\n",
       "      <th>artist</th>\n",
       "    </tr>\n",
       "  </thead>\n",
       "  <tbody>\n",
       "    <tr>\n",
       "      <th>0</th>\n",
       "      <td>57bgtoPSgt236HzfBOd8kj</td>\n",
       "      <td>Thunderstruck</td>\n",
       "      <td>The Razors Edge</td>\n",
       "      <td>AC/DC</td>\n",
       "    </tr>\n",
       "    <tr>\n",
       "      <th>1</th>\n",
       "      <td>3jUTjCISntIUFL8jnAjzgc</td>\n",
       "      <td>Fallen Leaves</td>\n",
       "      <td>Billy Talent II</td>\n",
       "      <td>Billy Talent</td>\n",
       "    </tr>\n",
       "    <tr>\n",
       "      <th>2</th>\n",
       "      <td>1DeaByFASTvBxtYANOyFXy</td>\n",
       "      <td>Surrender</td>\n",
       "      <td>Billy Talent II</td>\n",
       "      <td>Billy Talent</td>\n",
       "    </tr>\n",
       "    <tr>\n",
       "      <th>3</th>\n",
       "      <td>7LRMbd3LEoV5wZJvXT1Lwb</td>\n",
       "      <td>T.N.T.</td>\n",
       "      <td>High Voltage</td>\n",
       "      <td>AC/DC</td>\n",
       "    </tr>\n",
       "    <tr>\n",
       "      <th>4</th>\n",
       "      <td>2QSAj76Ba6aMFX9RlXdUdO</td>\n",
       "      <td>J'ai demandé à la lune</td>\n",
       "      <td>Paradize</td>\n",
       "      <td>Indochine</td>\n",
       "    </tr>\n",
       "    <tr>\n",
       "      <th>5</th>\n",
       "      <td>6nTiIhLmQ3FWhvrGafw2zj</td>\n",
       "      <td>American Idiot</td>\n",
       "      <td>American Idiot</td>\n",
       "      <td>Green Day</td>\n",
       "    </tr>\n",
       "  </tbody>\n",
       "</table>\n",
       "</div>"
      ],
      "text/plain": [
       "                 track_id                   titre            album  \\\n",
       "0  57bgtoPSgt236HzfBOd8kj           Thunderstruck  The Razors Edge   \n",
       "1  3jUTjCISntIUFL8jnAjzgc           Fallen Leaves  Billy Talent II   \n",
       "2  1DeaByFASTvBxtYANOyFXy               Surrender  Billy Talent II   \n",
       "3  7LRMbd3LEoV5wZJvXT1Lwb                  T.N.T.     High Voltage   \n",
       "4  2QSAj76Ba6aMFX9RlXdUdO  J'ai demandé à la lune         Paradize   \n",
       "5  6nTiIhLmQ3FWhvrGafw2zj          American Idiot   American Idiot   \n",
       "\n",
       "         artist  \n",
       "0         AC/DC  \n",
       "1  Billy Talent  \n",
       "2  Billy Talent  \n",
       "3         AC/DC  \n",
       "4     Indochine  \n",
       "5     Green Day  "
      ]
     },
     "execution_count": 9,
     "metadata": {},
     "output_type": "execute_result"
    }
   ],
   "source": [
    "music=['57bgtoPSgt236HzfBOd8kj','3jUTjCISntIUFL8jnAjzgc','1DeaByFASTvBxtYANOyFXy','7LRMbd3LEoV5wZJvXT1Lwb','2QSAj76Ba6aMFX9RlXdUdO','6nTiIhLmQ3FWhvrGafw2zj']\n",
    "recup_liste_spotify(music)\n"
   ]
  },
  {
   "cell_type": "code",
   "execution_count": 10,
   "id": "14364bd3",
   "metadata": {},
   "outputs": [
    {
     "data": {
      "text/html": [
       "<div>\n",
       "<style scoped>\n",
       "    .dataframe tbody tr th:only-of-type {\n",
       "        vertical-align: middle;\n",
       "    }\n",
       "\n",
       "    .dataframe tbody tr th {\n",
       "        vertical-align: top;\n",
       "    }\n",
       "\n",
       "    .dataframe thead th {\n",
       "        text-align: right;\n",
       "    }\n",
       "</style>\n",
       "<table border=\"1\" class=\"dataframe\">\n",
       "  <thead>\n",
       "    <tr style=\"text-align: right;\">\n",
       "      <th></th>\n",
       "      <th>track_id</th>\n",
       "      <th>titre</th>\n",
       "      <th>album</th>\n",
       "      <th>artist</th>\n",
       "    </tr>\n",
       "  </thead>\n",
       "  <tbody>\n",
       "    <tr>\n",
       "      <th>0</th>\n",
       "      <td>08mG3Y1vljYA6bvDt4Wqkj</td>\n",
       "      <td>Back In Black</td>\n",
       "      <td>Back In Black</td>\n",
       "      <td>AC/DC</td>\n",
       "    </tr>\n",
       "    <tr>\n",
       "      <th>1</th>\n",
       "      <td>2zYzyRzz6pRmhPzyfMEC8s</td>\n",
       "      <td>Highway to Hell</td>\n",
       "      <td>Highway to Hell</td>\n",
       "      <td>AC/DC</td>\n",
       "    </tr>\n",
       "    <tr>\n",
       "      <th>2</th>\n",
       "      <td>7o2CTH4ctstm8TNelqjb51</td>\n",
       "      <td>Sweet Child O' Mine</td>\n",
       "      <td>Appetite For Destruction</td>\n",
       "      <td>Guns N' Roses</td>\n",
       "    </tr>\n",
       "    <tr>\n",
       "      <th>3</th>\n",
       "      <td>0bVtevEgtDIeRjCJbK3Lmv</td>\n",
       "      <td>Welcome To The Jungle</td>\n",
       "      <td>Appetite For Destruction</td>\n",
       "      <td>Guns N' Roses</td>\n",
       "    </tr>\n",
       "    <tr>\n",
       "      <th>4</th>\n",
       "      <td>2SiXAy7TuUkycRVbbWDEpo</td>\n",
       "      <td>You Shook Me All Night Long</td>\n",
       "      <td>Back In Black</td>\n",
       "      <td>AC/DC</td>\n",
       "    </tr>\n",
       "    <tr>\n",
       "      <th>5</th>\n",
       "      <td>1AhDOtG9vPSOmsWgNW0BEY</td>\n",
       "      <td>Bohemian Rhapsody - Remastered 2011</td>\n",
       "      <td>A Night At The Opera (2011 Remaster)</td>\n",
       "      <td>Queen</td>\n",
       "    </tr>\n",
       "    <tr>\n",
       "      <th>6</th>\n",
       "      <td>3YBZIN3rekqsKxbJc9FZko</td>\n",
       "      <td>Paradise City</td>\n",
       "      <td>Appetite For Destruction</td>\n",
       "      <td>Guns N' Roses</td>\n",
       "    </tr>\n",
       "    <tr>\n",
       "      <th>7</th>\n",
       "      <td>4CJVkjo5WpmUAKp3R44LNb</td>\n",
       "      <td>Sweet Home Alabama</td>\n",
       "      <td>Second Helping</td>\n",
       "      <td>Lynyrd Skynyrd</td>\n",
       "    </tr>\n",
       "    <tr>\n",
       "      <th>8</th>\n",
       "      <td>5MxNLUsfh7uzROypsoO5qe</td>\n",
       "      <td>Dream On</td>\n",
       "      <td>Aerosmith</td>\n",
       "      <td>Aerosmith</td>\n",
       "    </tr>\n",
       "    <tr>\n",
       "      <th>9</th>\n",
       "      <td>4bHsxqR3GMrXTxEPLuK5ue</td>\n",
       "      <td>Don't Stop Believin'</td>\n",
       "      <td>Escape</td>\n",
       "      <td>Journey</td>\n",
       "    </tr>\n",
       "  </tbody>\n",
       "</table>\n",
       "</div>"
      ],
      "text/plain": [
       "                 track_id                                titre  \\\n",
       "0  08mG3Y1vljYA6bvDt4Wqkj                        Back In Black   \n",
       "1  2zYzyRzz6pRmhPzyfMEC8s                      Highway to Hell   \n",
       "2  7o2CTH4ctstm8TNelqjb51                  Sweet Child O' Mine   \n",
       "3  0bVtevEgtDIeRjCJbK3Lmv                Welcome To The Jungle   \n",
       "4  2SiXAy7TuUkycRVbbWDEpo          You Shook Me All Night Long   \n",
       "5  1AhDOtG9vPSOmsWgNW0BEY  Bohemian Rhapsody - Remastered 2011   \n",
       "6  3YBZIN3rekqsKxbJc9FZko                        Paradise City   \n",
       "7  4CJVkjo5WpmUAKp3R44LNb                   Sweet Home Alabama   \n",
       "8  5MxNLUsfh7uzROypsoO5qe                             Dream On   \n",
       "9  4bHsxqR3GMrXTxEPLuK5ue                 Don't Stop Believin'   \n",
       "\n",
       "                                  album          artist  \n",
       "0                         Back In Black           AC/DC  \n",
       "1                       Highway to Hell           AC/DC  \n",
       "2              Appetite For Destruction   Guns N' Roses  \n",
       "3              Appetite For Destruction   Guns N' Roses  \n",
       "4                         Back In Black           AC/DC  \n",
       "5  A Night At The Opera (2011 Remaster)           Queen  \n",
       "6              Appetite For Destruction   Guns N' Roses  \n",
       "7                        Second Helping  Lynyrd Skynyrd  \n",
       "8                             Aerosmith       Aerosmith  \n",
       "9                                Escape         Journey  "
      ]
     },
     "execution_count": 10,
     "metadata": {},
     "output_type": "execute_result"
    }
   ],
   "source": [
    "recup_liste_spotify(recommandation_playlist(music))"
   ]
  },
  {
   "cell_type": "code",
   "execution_count": null,
   "id": "860964fd",
   "metadata": {},
   "outputs": [],
   "source": []
  },
  {
   "cell_type": "code",
   "execution_count": 11,
   "id": "059a796a",
   "metadata": {},
   "outputs": [
    {
     "data": {
      "text/html": [
       "<div>\n",
       "<style scoped>\n",
       "    .dataframe tbody tr th:only-of-type {\n",
       "        vertical-align: middle;\n",
       "    }\n",
       "\n",
       "    .dataframe tbody tr th {\n",
       "        vertical-align: top;\n",
       "    }\n",
       "\n",
       "    .dataframe thead th {\n",
       "        text-align: right;\n",
       "    }\n",
       "</style>\n",
       "<table border=\"1\" class=\"dataframe\">\n",
       "  <thead>\n",
       "    <tr style=\"text-align: right;\">\n",
       "      <th></th>\n",
       "      <th>track_id</th>\n",
       "      <th>titre</th>\n",
       "      <th>album</th>\n",
       "      <th>artist</th>\n",
       "    </tr>\n",
       "  </thead>\n",
       "  <tbody>\n",
       "    <tr>\n",
       "      <th>0</th>\n",
       "      <td>1MQTmpYOZ6fcMQc56Hdo7T</td>\n",
       "      <td>Sleep Now In the Fire</td>\n",
       "      <td>The Battle Of Los Angeles</td>\n",
       "      <td>Rage Against The Machine</td>\n",
       "    </tr>\n",
       "  </tbody>\n",
       "</table>\n",
       "</div>"
      ],
      "text/plain": [
       "                 track_id                  titre                      album  \\\n",
       "0  1MQTmpYOZ6fcMQc56Hdo7T  Sleep Now In the Fire  The Battle Of Los Angeles   \n",
       "\n",
       "                     artist  \n",
       "0  Rage Against The Machine  "
      ]
     },
     "execution_count": 11,
     "metadata": {},
     "output_type": "execute_result"
    }
   ],
   "source": [
    "music='1MQTmpYOZ6fcMQc56Hdo7T'\n",
    "recup_liste_spotify([music])"
   ]
  },
  {
   "cell_type": "code",
   "execution_count": 12,
   "id": "c65eab34",
   "metadata": {},
   "outputs": [
    {
     "data": {
      "text/html": [
       "<div>\n",
       "<style scoped>\n",
       "    .dataframe tbody tr th:only-of-type {\n",
       "        vertical-align: middle;\n",
       "    }\n",
       "\n",
       "    .dataframe tbody tr th {\n",
       "        vertical-align: top;\n",
       "    }\n",
       "\n",
       "    .dataframe thead th {\n",
       "        text-align: right;\n",
       "    }\n",
       "</style>\n",
       "<table border=\"1\" class=\"dataframe\">\n",
       "  <thead>\n",
       "    <tr style=\"text-align: right;\">\n",
       "      <th></th>\n",
       "      <th>track_id</th>\n",
       "      <th>titre</th>\n",
       "      <th>album</th>\n",
       "      <th>artist</th>\n",
       "    </tr>\n",
       "  </thead>\n",
       "  <tbody>\n",
       "    <tr>\n",
       "      <th>0</th>\n",
       "      <td>59WN2psjkt1tyaxjspN8fp</td>\n",
       "      <td>Killing In The Name</td>\n",
       "      <td>Rage Against The Machine - XX (20th Anniversar...</td>\n",
       "      <td>Rage Against The Machine</td>\n",
       "    </tr>\n",
       "    <tr>\n",
       "      <th>1</th>\n",
       "      <td>0tZ3mElWcr74OOhKEiNz1x</td>\n",
       "      <td>Bulls On Parade</td>\n",
       "      <td>Evil Empire</td>\n",
       "      <td>Rage Against The Machine</td>\n",
       "    </tr>\n",
       "    <tr>\n",
       "      <th>2</th>\n",
       "      <td>7lmeHLHBe4nmXzuXc0HDjk</td>\n",
       "      <td>Testify</td>\n",
       "      <td>The Battle Of Los Angeles</td>\n",
       "      <td>Rage Against The Machine</td>\n",
       "    </tr>\n",
       "    <tr>\n",
       "      <th>3</th>\n",
       "      <td>1wsRitfRRtWyEapl0q22o8</td>\n",
       "      <td>Guerrilla Radio</td>\n",
       "      <td>The Battle Of Los Angeles</td>\n",
       "      <td>Rage Against The Machine</td>\n",
       "    </tr>\n",
       "    <tr>\n",
       "      <th>4</th>\n",
       "      <td>5YBVDvTSSSiqv7KZDeUlXA</td>\n",
       "      <td>Renegades Of Funk</td>\n",
       "      <td>Renegades</td>\n",
       "      <td>Rage Against The Machine</td>\n",
       "    </tr>\n",
       "    <tr>\n",
       "      <th>5</th>\n",
       "      <td>6ZU9RJIZ0fNaFuQM57bDIA</td>\n",
       "      <td>Bombtrack</td>\n",
       "      <td>Rage Against The Machine</td>\n",
       "      <td>Rage Against The Machine</td>\n",
       "    </tr>\n",
       "    <tr>\n",
       "      <th>6</th>\n",
       "      <td>5ghIJDpPoe3CfHMGu71E6T</td>\n",
       "      <td>Smells Like Teen Spirit</td>\n",
       "      <td>Nevermind (Remastered)</td>\n",
       "      <td>Nirvana</td>\n",
       "    </tr>\n",
       "    <tr>\n",
       "      <th>7</th>\n",
       "      <td>5V3mdRI2yQxbSsJGDPc5lD</td>\n",
       "      <td>Chop Suey!</td>\n",
       "      <td>Toxicity</td>\n",
       "      <td>System Of A Down</td>\n",
       "    </tr>\n",
       "    <tr>\n",
       "      <th>8</th>\n",
       "      <td>1bdXMstfxFWYSkEFTnJMoN</td>\n",
       "      <td>Enter Sandman</td>\n",
       "      <td>Metallica</td>\n",
       "      <td>Metallica</td>\n",
       "    </tr>\n",
       "    <tr>\n",
       "      <th>9</th>\n",
       "      <td>5UWwZ5lm5PKu6eKsHAGxOk</td>\n",
       "      <td>Everlong</td>\n",
       "      <td>The Colour And The Shape</td>\n",
       "      <td>Foo Fighters</td>\n",
       "    </tr>\n",
       "  </tbody>\n",
       "</table>\n",
       "</div>"
      ],
      "text/plain": [
       "                 track_id                    titre  \\\n",
       "0  59WN2psjkt1tyaxjspN8fp      Killing In The Name   \n",
       "1  0tZ3mElWcr74OOhKEiNz1x          Bulls On Parade   \n",
       "2  7lmeHLHBe4nmXzuXc0HDjk                  Testify   \n",
       "3  1wsRitfRRtWyEapl0q22o8          Guerrilla Radio   \n",
       "4  5YBVDvTSSSiqv7KZDeUlXA        Renegades Of Funk   \n",
       "5  6ZU9RJIZ0fNaFuQM57bDIA                Bombtrack   \n",
       "6  5ghIJDpPoe3CfHMGu71E6T  Smells Like Teen Spirit   \n",
       "7  5V3mdRI2yQxbSsJGDPc5lD               Chop Suey!   \n",
       "8  1bdXMstfxFWYSkEFTnJMoN            Enter Sandman   \n",
       "9  5UWwZ5lm5PKu6eKsHAGxOk                 Everlong   \n",
       "\n",
       "                                               album                    artist  \n",
       "0  Rage Against The Machine - XX (20th Anniversar...  Rage Against The Machine  \n",
       "1                                        Evil Empire  Rage Against The Machine  \n",
       "2                          The Battle Of Los Angeles  Rage Against The Machine  \n",
       "3                          The Battle Of Los Angeles  Rage Against The Machine  \n",
       "4                                          Renegades  Rage Against The Machine  \n",
       "5                           Rage Against The Machine  Rage Against The Machine  \n",
       "6                             Nevermind (Remastered)                   Nirvana  \n",
       "7                                           Toxicity          System Of A Down  \n",
       "8                                          Metallica                 Metallica  \n",
       "9                           The Colour And The Shape              Foo Fighters  "
      ]
     },
     "execution_count": 12,
     "metadata": {},
     "output_type": "execute_result"
    }
   ],
   "source": [
    "recup_liste_spotify(recommandation_musicale(music))"
   ]
  }
 ],
 "metadata": {
  "kernelspec": {
   "display_name": "Python 3 (ipykernel)",
   "language": "python",
   "name": "python3"
  },
  "language_info": {
   "codemirror_mode": {
    "name": "ipython",
    "version": 3
   },
   "file_extension": ".py",
   "mimetype": "text/x-python",
   "name": "python",
   "nbconvert_exporter": "python",
   "pygments_lexer": "ipython3",
   "version": "3.9.7"
  }
 },
 "nbformat": 4,
 "nbformat_minor": 5
}
